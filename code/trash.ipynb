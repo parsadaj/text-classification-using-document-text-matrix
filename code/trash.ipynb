{
 "cells": [
  {
   "cell_type": "code",
   "execution_count": 52,
   "metadata": {},
   "outputs": [],
   "source": [
    "import numpy as np"
   ]
  },
  {
   "cell_type": "code",
   "execution_count": 53,
   "metadata": {},
   "outputs": [],
   "source": [
    "k = 100\n",
    "k1 = 25\n",
    "k2 = 4\n",
    "a = np.arange(k).reshape((k1, k2))"
   ]
  },
  {
   "cell_type": "code",
   "execution_count": 54,
   "metadata": {},
   "outputs": [
    {
     "data": {
      "text/plain": [
       "(25, 4)"
      ]
     },
     "execution_count": 54,
     "metadata": {},
     "output_type": "execute_result"
    }
   ],
   "source": [
    "a.shape"
   ]
  },
  {
   "cell_type": "code",
   "execution_count": 55,
   "metadata": {},
   "outputs": [
    {
     "data": {
      "text/plain": [
       "(25, 1)"
      ]
     },
     "execution_count": 55,
     "metadata": {},
     "output_type": "execute_result"
    }
   ],
   "source": [
    "np.sum(a, axis=1, keepdims=True).shape"
   ]
  },
  {
   "cell_type": "code",
   "execution_count": 56,
   "metadata": {},
   "outputs": [],
   "source": [
    "u, s, vh = np.linalg.svd(a)"
   ]
  },
  {
   "cell_type": "code",
   "execution_count": 57,
   "metadata": {},
   "outputs": [
    {
     "data": {
      "text/plain": [
       "((25, 25), (4,), (4, 4))"
      ]
     },
     "execution_count": 57,
     "metadata": {},
     "output_type": "execute_result"
    }
   ],
   "source": [
    "u.shape, s.shape, vh.shape"
   ]
  },
  {
   "cell_type": "code",
   "execution_count": 58,
   "metadata": {},
   "outputs": [
    {
     "data": {
      "text/plain": [
       "array([[ 0,  1,  2,  3],\n",
       "       [ 4,  5,  6,  7],\n",
       "       [ 8,  9, 10, 11],\n",
       "       [12, 13, 14, 15],\n",
       "       [16, 17, 18, 19],\n",
       "       [20, 21, 22, 23],\n",
       "       [24, 25, 26, 27],\n",
       "       [28, 29, 30, 31],\n",
       "       [32, 33, 34, 35],\n",
       "       [36, 37, 38, 39],\n",
       "       [40, 41, 42, 43],\n",
       "       [44, 45, 46, 47],\n",
       "       [48, 49, 50, 51],\n",
       "       [52, 53, 54, 55],\n",
       "       [56, 57, 58, 59],\n",
       "       [60, 61, 62, 63],\n",
       "       [64, 65, 66, 67],\n",
       "       [68, 69, 70, 71],\n",
       "       [72, 73, 74, 75],\n",
       "       [76, 77, 78, 79],\n",
       "       [80, 81, 82, 83],\n",
       "       [84, 85, 86, 87],\n",
       "       [88, 89, 90, 91],\n",
       "       [92, 93, 94, 95],\n",
       "       [96, 97, 98, 99]])"
      ]
     },
     "execution_count": 58,
     "metadata": {},
     "output_type": "execute_result"
    }
   ],
   "source": [
    "a"
   ]
  },
  {
   "cell_type": "code",
   "execution_count": 60,
   "metadata": {},
   "outputs": [
    {
     "data": {
      "text/plain": [
       "array([[7.12544698e-17, 1.00000000e+00, 2.00000000e+00, 3.00000000e+00],\n",
       "       [4.00000000e+00, 5.00000000e+00, 6.00000000e+00, 7.00000000e+00],\n",
       "       [8.00000000e+00, 9.00000000e+00, 1.00000000e+01, 1.10000000e+01],\n",
       "       [1.20000000e+01, 1.30000000e+01, 1.40000000e+01, 1.50000000e+01],\n",
       "       [1.60000000e+01, 1.70000000e+01, 1.80000000e+01, 1.90000000e+01],\n",
       "       [2.00000000e+01, 2.10000000e+01, 2.20000000e+01, 2.30000000e+01],\n",
       "       [2.40000000e+01, 2.50000000e+01, 2.60000000e+01, 2.70000000e+01],\n",
       "       [2.80000000e+01, 2.90000000e+01, 3.00000000e+01, 3.10000000e+01],\n",
       "       [3.20000000e+01, 3.30000000e+01, 3.40000000e+01, 3.50000000e+01],\n",
       "       [3.60000000e+01, 3.70000000e+01, 3.80000000e+01, 3.90000000e+01],\n",
       "       [4.00000000e+01, 4.10000000e+01, 4.20000000e+01, 4.30000000e+01],\n",
       "       [4.40000000e+01, 4.50000000e+01, 4.60000000e+01, 4.70000000e+01],\n",
       "       [4.80000000e+01, 4.90000000e+01, 5.00000000e+01, 5.10000000e+01],\n",
       "       [5.20000000e+01, 5.30000000e+01, 5.40000000e+01, 5.50000000e+01],\n",
       "       [5.60000000e+01, 5.70000000e+01, 5.80000000e+01, 5.90000000e+01],\n",
       "       [6.00000000e+01, 6.10000000e+01, 6.20000000e+01, 6.30000000e+01],\n",
       "       [6.40000000e+01, 6.50000000e+01, 6.60000000e+01, 6.70000000e+01],\n",
       "       [6.80000000e+01, 6.90000000e+01, 7.00000000e+01, 7.10000000e+01],\n",
       "       [7.20000000e+01, 7.30000000e+01, 7.40000000e+01, 7.50000000e+01],\n",
       "       [7.60000000e+01, 7.70000000e+01, 7.80000000e+01, 7.90000000e+01],\n",
       "       [8.00000000e+01, 8.10000000e+01, 8.20000000e+01, 8.30000000e+01],\n",
       "       [8.40000000e+01, 8.50000000e+01, 8.60000000e+01, 8.70000000e+01],\n",
       "       [8.80000000e+01, 8.90000000e+01, 9.00000000e+01, 9.10000000e+01],\n",
       "       [9.20000000e+01, 9.30000000e+01, 9.40000000e+01, 9.50000000e+01],\n",
       "       [9.60000000e+01, 9.70000000e+01, 9.80000000e+01, 9.90000000e+01]])"
      ]
     },
     "execution_count": 60,
     "metadata": {},
     "output_type": "execute_result"
    }
   ],
   "source": [
    "u[:, :len(s)] @ np.diag(s) @ vh"
   ]
  },
  {
   "cell_type": "code",
   "execution_count": 1,
   "metadata": {},
   "outputs": [],
   "source": [
    "a = [0 for i in range(10)]"
   ]
  },
  {
   "cell_type": "code",
   "execution_count": 2,
   "metadata": {},
   "outputs": [
    {
     "data": {
      "text/plain": [
       "[0, 0, 0, 0, 0, 0, 0, 0, 0, 0]"
      ]
     },
     "execution_count": 2,
     "metadata": {},
     "output_type": "execute_result"
    }
   ],
   "source": [
    "a"
   ]
  },
  {
   "cell_type": "code",
   "execution_count": 3,
   "metadata": {},
   "outputs": [],
   "source": [
    "a[2] = 1"
   ]
  },
  {
   "cell_type": "code",
   "execution_count": 4,
   "metadata": {},
   "outputs": [
    {
     "data": {
      "text/plain": [
       "[0, 0, 1, 0, 0, 0, 0, 0, 0, 0]"
      ]
     },
     "execution_count": 4,
     "metadata": {},
     "output_type": "execute_result"
    }
   ],
   "source": [
    "a\n"
   ]
  },
  {
   "cell_type": "code",
   "execution_count": 7,
   "metadata": {},
   "outputs": [],
   "source": [
    "a = dict(r=2,b=3)\n",
    "c = [i for i in a]"
   ]
  },
  {
   "cell_type": "code",
   "execution_count": 8,
   "metadata": {},
   "outputs": [
    {
     "data": {
      "text/plain": [
       "['r', 'b']"
      ]
     },
     "execution_count": 8,
     "metadata": {},
     "output_type": "execute_result"
    }
   ],
   "source": [
    "c"
   ]
  },
  {
   "cell_type": "code",
   "execution_count": 3,
   "metadata": {},
   "outputs": [
    {
     "data": {
      "text/plain": [
       "'sdfkl3esdf'"
      ]
     },
     "execution_count": 3,
     "metadata": {},
     "output_type": "execute_result"
    }
   ],
   "source": [
    "i = 3\n",
    "f'sdfkl{i}esdf'"
   ]
  },
  {
   "cell_type": "code",
   "execution_count": 1,
   "metadata": {},
   "outputs": [],
   "source": [
    "import json"
   ]
  },
  {
   "cell_type": "code",
   "execution_count": 7,
   "metadata": {},
   "outputs": [],
   "source": [
    "    with open('/Users/parsa/Daneshgah/Arshad/2/NLP/Homeworks/HW4/index_to_label') as fp:\n",
    "        a = fp.read()"
   ]
  },
  {
   "cell_type": "code",
   "execution_count": 8,
   "metadata": {},
   "outputs": [
    {
     "data": {
      "text/plain": [
       "'{\"0\": \"\\\\u0622\\\\u0645\\\\u0648\\\\u0632\\\\u0634\\\\u064a\\\\n\", \"1\": \"\\\\u0627\\\\u062c\\\\u062a\\\\u0645\\\\u0627\\\\u0639\\\\u064a\\\\n\", \"2\": \"\\\\u062a\\\\u0627\\\\u0631\\\\u064a\\\\u062e\\\\u064a\\\\n\", \"3\": \"\\\\u0627\\\\u0642\\\\u062a\\\\u0635\\\\u0627\\\\u062f\\\\u064a\\\\n\", \"4\": \"\\\\u0628\\\\u0647\\\\u062f\\\\u0627\\\\u0634\\\\u062a\\\\u064a\\\\n\", \"5\": \"\\\\u0639\\\\u0644\\\\u0645\\\\u064a\\\\n\", \"6\": \"\\\\u0633\\\\u064a\\\\u0627\\\\u0633\\\\u064a\\\\n\", \"7\": \"\\\\u0641\\\\u0631\\\\u0647\\\\u0646\\\\u06af\\\\u064a\\\\n\", \"8\": \"\\\\u0641\\\\u0642\\\\u0647 \\\\u0648 \\\\u062d\\\\u0642\\\\u0648\\\\u0642\\\\n\", \"9\": \"\\\\u0645\\\\u0630\\\\u0647\\\\u0628\\\\u064a\\\\n\", \"10\": \"\\\\u0648\\\\u0631\\\\u0632\\\\u0634\\\\u064a\\\\n\"}'"
      ]
     },
     "execution_count": 8,
     "metadata": {},
     "output_type": "execute_result"
    }
   ],
   "source": [
    "a"
   ]
  },
  {
   "cell_type": "code",
   "execution_count": 9,
   "metadata": {},
   "outputs": [
    {
     "data": {
      "text/plain": [
       "{'0': 'آموزشي\\n',\n",
       " '1': 'اجتماعي\\n',\n",
       " '2': 'تاريخي\\n',\n",
       " '3': 'اقتصادي\\n',\n",
       " '4': 'بهداشتي\\n',\n",
       " '5': 'علمي\\n',\n",
       " '6': 'سياسي\\n',\n",
       " '7': 'فرهنگي\\n',\n",
       " '8': 'فقه و حقوق\\n',\n",
       " '9': 'مذهبي\\n',\n",
       " '10': 'ورزشي\\n'}"
      ]
     },
     "execution_count": 9,
     "metadata": {},
     "output_type": "execute_result"
    }
   ],
   "source": [
    "json.loads(a)"
   ]
  },
  {
   "cell_type": "code",
   "execution_count": null,
   "metadata": {},
   "outputs": [],
   "source": []
  }
 ],
 "metadata": {
  "interpreter": {
   "hash": "31f2aee4e71d21fbe5cf8b01ff0e069b9275f58929596ceb00d14d90e3e16cd6"
  },
  "kernelspec": {
   "display_name": "Python 3.8.9 64-bit",
   "language": "python",
   "name": "python3"
  },
  "language_info": {
   "codemirror_mode": {
    "name": "ipython",
    "version": 3
   },
   "file_extension": ".py",
   "mimetype": "text/x-python",
   "name": "python",
   "nbconvert_exporter": "python",
   "pygments_lexer": "ipython3",
   "version": "3.8.9"
  },
  "orig_nbformat": 4
 },
 "nbformat": 4,
 "nbformat_minor": 2
}
